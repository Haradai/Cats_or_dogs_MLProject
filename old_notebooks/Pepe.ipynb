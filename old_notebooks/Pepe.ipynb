{
 "cells": [
  {
   "cell_type": "code",
   "execution_count": 22,
   "metadata": {},
   "outputs": [],
   "source": [
    "from sklearn.svm import SVC\n",
    "from sklearn.model_selection import train_test_split\n",
    "import pandas as pd\n",
    "import numpy as np"
   ]
  },
  {
   "cell_type": "code",
   "execution_count": 23,
   "metadata": {},
   "outputs": [
    {
     "data": {
      "text/html": [
       "<div>\n",
       "<style scoped>\n",
       "    .dataframe tbody tr th:only-of-type {\n",
       "        vertical-align: middle;\n",
       "    }\n",
       "\n",
       "    .dataframe tbody tr th {\n",
       "        vertical-align: top;\n",
       "    }\n",
       "\n",
       "    .dataframe thead th {\n",
       "        text-align: right;\n",
       "    }\n",
       "</style>\n",
       "<table border=\"1\" class=\"dataframe\">\n",
       "  <thead>\n",
       "    <tr style=\"text-align: right;\">\n",
       "      <th></th>\n",
       "      <th>file</th>\n",
       "      <th>animal</th>\n",
       "      <th>freq0</th>\n",
       "      <th>freq1</th>\n",
       "      <th>freq2</th>\n",
       "      <th>freq3</th>\n",
       "      <th>freq4</th>\n",
       "      <th>freq5</th>\n",
       "      <th>freq6</th>\n",
       "      <th>freq7</th>\n",
       "      <th>...</th>\n",
       "      <th>freq241</th>\n",
       "      <th>freq242</th>\n",
       "      <th>freq243</th>\n",
       "      <th>freq244</th>\n",
       "      <th>freq245</th>\n",
       "      <th>freq246</th>\n",
       "      <th>freq247</th>\n",
       "      <th>freq248</th>\n",
       "      <th>freq249</th>\n",
       "      <th>freq250</th>\n",
       "    </tr>\n",
       "  </thead>\n",
       "  <tbody>\n",
       "    <tr>\n",
       "      <th>0</th>\n",
       "      <td>audio-dataset/cats_dogs/cat_74.wav</td>\n",
       "      <td>1</td>\n",
       "      <td>8.086168</td>\n",
       "      <td>6.813196</td>\n",
       "      <td>0.651597</td>\n",
       "      <td>-6.359843</td>\n",
       "      <td>-10.394340</td>\n",
       "      <td>-11.307176</td>\n",
       "      <td>-14.386157</td>\n",
       "      <td>-16.761415</td>\n",
       "      <td>...</td>\n",
       "      <td>-50.192669</td>\n",
       "      <td>-50.192669</td>\n",
       "      <td>-50.192669</td>\n",
       "      <td>-50.192669</td>\n",
       "      <td>-50.192669</td>\n",
       "      <td>-50.192669</td>\n",
       "      <td>-50.192669</td>\n",
       "      <td>-50.192669</td>\n",
       "      <td>-50.192669</td>\n",
       "      <td>-50.192669</td>\n",
       "    </tr>\n",
       "    <tr>\n",
       "      <th>1</th>\n",
       "      <td>audio-dataset/cats_dogs/dog_barking_63.wav</td>\n",
       "      <td>0</td>\n",
       "      <td>-14.020511</td>\n",
       "      <td>-17.609503</td>\n",
       "      <td>-29.791566</td>\n",
       "      <td>-31.501912</td>\n",
       "      <td>-32.045335</td>\n",
       "      <td>-29.771676</td>\n",
       "      <td>-20.327771</td>\n",
       "      <td>-11.130250</td>\n",
       "      <td>...</td>\n",
       "      <td>-42.455536</td>\n",
       "      <td>-42.455536</td>\n",
       "      <td>-42.455536</td>\n",
       "      <td>-42.455536</td>\n",
       "      <td>-42.455536</td>\n",
       "      <td>-42.455536</td>\n",
       "      <td>-42.455536</td>\n",
       "      <td>-42.455536</td>\n",
       "      <td>-42.455536</td>\n",
       "      <td>-42.455536</td>\n",
       "    </tr>\n",
       "    <tr>\n",
       "      <th>2</th>\n",
       "      <td>audio-dataset/cats_dogs/cat_60.wav</td>\n",
       "      <td>1</td>\n",
       "      <td>9.887736</td>\n",
       "      <td>20.227963</td>\n",
       "      <td>18.509231</td>\n",
       "      <td>1.091707</td>\n",
       "      <td>2.596950</td>\n",
       "      <td>-2.524327</td>\n",
       "      <td>6.518483</td>\n",
       "      <td>11.146668</td>\n",
       "      <td>...</td>\n",
       "      <td>-38.824154</td>\n",
       "      <td>-38.824154</td>\n",
       "      <td>-38.824154</td>\n",
       "      <td>-38.824154</td>\n",
       "      <td>-38.824154</td>\n",
       "      <td>-38.824154</td>\n",
       "      <td>-38.824154</td>\n",
       "      <td>-38.824154</td>\n",
       "      <td>-38.824154</td>\n",
       "      <td>-38.824154</td>\n",
       "    </tr>\n",
       "    <tr>\n",
       "      <th>3</th>\n",
       "      <td>audio-dataset/cats_dogs/dog_barking_77.wav</td>\n",
       "      <td>0</td>\n",
       "      <td>-12.092080</td>\n",
       "      <td>-15.625075</td>\n",
       "      <td>-23.819625</td>\n",
       "      <td>-10.038227</td>\n",
       "      <td>-2.145106</td>\n",
       "      <td>-0.567936</td>\n",
       "      <td>-9.483675</td>\n",
       "      <td>-4.013952</td>\n",
       "      <td>...</td>\n",
       "      <td>-41.520092</td>\n",
       "      <td>-41.520092</td>\n",
       "      <td>-41.520092</td>\n",
       "      <td>-41.520092</td>\n",
       "      <td>-41.520092</td>\n",
       "      <td>-41.520092</td>\n",
       "      <td>-41.520092</td>\n",
       "      <td>-41.520092</td>\n",
       "      <td>-41.520092</td>\n",
       "      <td>-41.520092</td>\n",
       "    </tr>\n",
       "    <tr>\n",
       "      <th>4</th>\n",
       "      <td>audio-dataset/cats_dogs/cat_48.wav</td>\n",
       "      <td>1</td>\n",
       "      <td>-30.140636</td>\n",
       "      <td>-24.407700</td>\n",
       "      <td>-20.097540</td>\n",
       "      <td>-20.254327</td>\n",
       "      <td>-23.591153</td>\n",
       "      <td>-24.497132</td>\n",
       "      <td>-23.473559</td>\n",
       "      <td>-23.738149</td>\n",
       "      <td>...</td>\n",
       "      <td>-40.019665</td>\n",
       "      <td>-40.019665</td>\n",
       "      <td>-40.019665</td>\n",
       "      <td>-40.019665</td>\n",
       "      <td>-40.019665</td>\n",
       "      <td>-40.019665</td>\n",
       "      <td>-40.019665</td>\n",
       "      <td>-40.019665</td>\n",
       "      <td>-40.019665</td>\n",
       "      <td>-40.019665</td>\n",
       "    </tr>\n",
       "  </tbody>\n",
       "</table>\n",
       "<p>5 rows × 253 columns</p>\n",
       "</div>"
      ],
      "text/plain": [
       "                                         file  animal      freq0      freq1  \\\n",
       "0          audio-dataset/cats_dogs/cat_74.wav       1   8.086168   6.813196   \n",
       "1  audio-dataset/cats_dogs/dog_barking_63.wav       0 -14.020511 -17.609503   \n",
       "2          audio-dataset/cats_dogs/cat_60.wav       1   9.887736  20.227963   \n",
       "3  audio-dataset/cats_dogs/dog_barking_77.wav       0 -12.092080 -15.625075   \n",
       "4          audio-dataset/cats_dogs/cat_48.wav       1 -30.140636 -24.407700   \n",
       "\n",
       "       freq2      freq3      freq4      freq5      freq6      freq7  ...  \\\n",
       "0   0.651597  -6.359843 -10.394340 -11.307176 -14.386157 -16.761415  ...   \n",
       "1 -29.791566 -31.501912 -32.045335 -29.771676 -20.327771 -11.130250  ...   \n",
       "2  18.509231   1.091707   2.596950  -2.524327   6.518483  11.146668  ...   \n",
       "3 -23.819625 -10.038227  -2.145106  -0.567936  -9.483675  -4.013952  ...   \n",
       "4 -20.097540 -20.254327 -23.591153 -24.497132 -23.473559 -23.738149  ...   \n",
       "\n",
       "     freq241    freq242    freq243    freq244    freq245    freq246  \\\n",
       "0 -50.192669 -50.192669 -50.192669 -50.192669 -50.192669 -50.192669   \n",
       "1 -42.455536 -42.455536 -42.455536 -42.455536 -42.455536 -42.455536   \n",
       "2 -38.824154 -38.824154 -38.824154 -38.824154 -38.824154 -38.824154   \n",
       "3 -41.520092 -41.520092 -41.520092 -41.520092 -41.520092 -41.520092   \n",
       "4 -40.019665 -40.019665 -40.019665 -40.019665 -40.019665 -40.019665   \n",
       "\n",
       "     freq247    freq248    freq249    freq250  \n",
       "0 -50.192669 -50.192669 -50.192669 -50.192669  \n",
       "1 -42.455536 -42.455536 -42.455536 -42.455536  \n",
       "2 -38.824154 -38.824154 -38.824154 -38.824154  \n",
       "3 -41.520092 -41.520092 -41.520092 -41.520092  \n",
       "4 -40.019665 -40.019665 -40.019665 -40.019665  \n",
       "\n",
       "[5 rows x 253 columns]"
      ]
     },
     "execution_count": 23,
     "metadata": {},
     "output_type": "execute_result"
    }
   ],
   "source": [
    "df = pd.read_csv(\"dataframes/freq_raw.csv\")\n",
    "df.head()"
   ]
  },
  {
   "cell_type": "code",
   "execution_count": 24,
   "metadata": {},
   "outputs": [],
   "source": [
    "y = df[\"animal\"]\n",
    "X = df.drop([\"file\",\"animal\"],axis=1)\n",
    "\n",
    "X_train, X_test, y_train, y_test = train_test_split(X, y, test_size=0.33)"
   ]
  },
  {
   "cell_type": "code",
   "execution_count": 32,
   "metadata": {},
   "outputs": [
    {
     "data": {
      "text/plain": [
       "0.6195652173913043"
      ]
     },
     "execution_count": 32,
     "metadata": {},
     "output_type": "execute_result"
    }
   ],
   "source": [
    "clf = SVC(gamma='auto')\n",
    "clf.fit(X_train, y_train)\n",
    "clf.score(X_test,y_test)"
   ]
  },
  {
   "cell_type": "code",
   "execution_count": 27,
   "metadata": {},
   "outputs": [],
   "source": [
    "from sklearn.decomposition import PCA"
   ]
  },
  {
   "cell_type": "code",
   "execution_count": 28,
   "metadata": {},
   "outputs": [
    {
     "name": "stdout",
     "output_type": "stream",
     "text": [
      "[0.5292095  0.14777726 0.11547598]\n"
     ]
    }
   ],
   "source": [
    "pca = PCA(n_components=3)\n",
    "pca.fit(X)\n",
    "print(pca.explained_variance_ratio_)"
   ]
  },
  {
   "cell_type": "code",
   "execution_count": 34,
   "metadata": {},
   "outputs": [
    {
     "data": {
      "text/plain": [
       "(array([  0,   2,   4,   6,   7,   8,   9,  13,  17,  18,  19,  22,  23,\n",
       "         24,  27,  28,  31,  32,  35,  40,  42,  43,  44,  46,  47,  48,\n",
       "         49,  50,  51,  52,  53,  55,  56,  58,  59,  60,  63,  65,  66,\n",
       "         68,  71,  72,  73,  77,  78,  81,  83,  85,  86,  87,  88,  89,\n",
       "         92,  98,  99, 100, 101, 102, 103, 104, 105, 107, 108, 109, 110,\n",
       "        112, 113, 114, 115, 116, 120, 121, 126, 128, 129, 130, 131, 132,\n",
       "        133, 139, 141, 142, 143, 144, 148, 149, 151, 153, 154, 156, 158,\n",
       "        159, 160, 162, 163, 166, 168, 170, 171, 172, 174, 176, 177, 178,\n",
       "        180, 182, 184]),)"
      ]
     },
     "execution_count": 34,
     "metadata": {},
     "output_type": "execute_result"
    }
   ],
   "source": [
    "np.where(y_train == 1)"
   ]
  },
  {
   "cell_type": "code",
   "execution_count": 46,
   "metadata": {},
   "outputs": [
    {
     "data": {
      "text/plain": [
       "(107,)"
      ]
     },
     "execution_count": 46,
     "metadata": {},
     "output_type": "execute_result"
    }
   ],
   "source": [
    ".shape"
   ]
  },
  {
   "cell_type": "code",
   "execution_count": 50,
   "metadata": {},
   "outputs": [
    {
     "data": {
      "image/png": "[encoded data removed]",
      "text/plain": [
       "<Figure size 640x480 with 1 Axes>"
      ]
     },
     "metadata": {},
     "output_type": "display_data"
    }
   ],
   "source": [
    "import matplotlib.pyplot as plt\n",
    "\n",
    "idx_cat = np.where(y_train == 1)\n",
    "idx_dog = np.where(y_train == 0)\n",
    "plt.title(\"Dogs vs Catas PCA\")\n",
    "plt.xlabel(\"****\")\n",
    "plt.ylabel(\"***\")\n",
    "plt.scatter(X_train[idx_cat][:,0],X_train[idx_cat][:,2], color = \"red\", label = \"Cats\",alpha = 0.3)\n",
    "plt.scatter(X_train[idx_dog][:,0],X_train[idx_dog][:,2], color = \"lime\", label = \"Dogs\",alpha = 0.3)\n",
    "plt.legend()\n",
    "plt.show()"
   ]
  },
  {
   "cell_type": "code",
   "execution_count": 29,
   "metadata": {},
   "outputs": [],
   "source": [
    "X_train = pca.transform(X_train)\n",
    "X_test = pca.transform(X_test)"
   ]
  },
  {
   "cell_type": "code",
   "execution_count": 30,
   "metadata": {},
   "outputs": [
    {
     "data": {
      "text/plain": [
       "0.6195652173913043"
      ]
     },
     "execution_count": 30,
     "metadata": {},
     "output_type": "execute_result"
    }
   ],
   "source": [
    "clf = SVC(gamma='auto')\n",
    "clf.fit(X_train, y_train)\n",
    "clf.score(X_test,y_test)"
   ]
  }
 ],
 "metadata": {
  "kernelspec": {
   "display_name": "Python 3.10.6 ('chaos')",
   "language": "python",
   "name": "python3"
  },
  "language_info": {
   "codemirror_mode": {
    "name": "ipython",
    "version": 3
   },
   "file_extension": ".py",
   "mimetype": "text/x-python",
   "name": "python",
   "nbconvert_exporter": "python",
   "pygments_lexer": "ipython3",
   "version": "3.10.6"
  },
  "orig_nbformat": 4,
  "vscode": {
   "interpreter": {
    "hash": "c7ae596a0e351a64bdee8401d4598b089ee21c4ae0cc6b869fec54b3f2f67ab8"
   }
  }
 },
 "nbformat": 4,
 "nbformat_minor": 2
}
